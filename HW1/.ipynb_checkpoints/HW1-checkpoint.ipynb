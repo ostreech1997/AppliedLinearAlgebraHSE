{
 "cells": [
  {
   "cell_type": "markdown",
   "metadata": {},
   "source": [
    "# Jacob Malyshev\n",
    "# Variant 20 "
   ]
  },
  {
   "cell_type": "code",
   "execution_count": 1,
   "metadata": {},
   "outputs": [],
   "source": [
    "import numpy as np\n",
    "import matplotlib.pyplot as plt\n",
    "import math\n",
    "from scipy.special import comb\n",
    "import sympy as sp "
   ]
  },
  {
   "cell_type": "markdown",
   "metadata": {},
   "source": [
    "# Task 1\n",
    "## Find an interpolation polynomial in the Lagrange form that passes through the four points whose coordinates form the columns of the matrix"
   ]
  },
  {
   "cell_type": "markdown",
   "metadata": {},
   "source": [
    "### $$ P = \\begin{bmatrix} -3 & -2 & 0 & 3 \\\\ 16 & -4 & 1 & 14 \\end{bmatrix}$$"
   ]
  },
  {
   "cell_type": "markdown",
   "metadata": {},
   "source": [
    "### To solve this task we can use the following formula:\n",
    "### $$ f(x) = L(x) = \\sum_{i=0}^{n}y_i\\cdot \\frac{\\displaystyle\\prod_{i}(x-x_j)}{\\displaystyle\\prod_{j}(x_i-x_j)}=\n",
    "\\frac{\\sum_{i=0}^{n}y_{i}v(x_{0},..,x_{i},..,x_{n})}{v(x_{0},...,x_{n})}$$"
   ]
  },
  {
   "cell_type": "code",
   "execution_count": 34,
   "metadata": {},
   "outputs": [],
   "source": [
    "P = np.array([[-3,-2,0,3],\n",
    "              [16,-4,1,14]])"
   ]
  },
  {
   "cell_type": "code",
   "execution_count": 35,
   "metadata": {},
   "outputs": [],
   "source": [
    "def LagrangePolinom(P):\n",
    "    x = sp.symbols('x')\n",
    "    n = P.shape[1]\n",
    "    f = 0\n",
    "    indexs = np.arange(0,n)\n",
    "    for i in range(n):        \n",
    "        ind_i = np.delete(indexs,i)\n",
    "        f += P[1,i]*(((x-P[0,ind_i[0]])*(x-P[0,ind_i[1]]) * (x-P[0,ind_i[2]]) ) / \\\n",
    "            ((P[0,i]-P[0,ind_i[0]])*(P[0,i]-P[0,ind_i[1]])*(P[0,i]-P[0,ind_i[2]])))\n",
    "    return sp.simplify(f)"
   ]
  },
  {
   "cell_type": "code",
   "execution_count": 36,
   "metadata": {},
   "outputs": [
    {
     "name": "stdout",
     "output_type": "stream",
     "text": [
      "Lagrange Polinom: -107*x**3/90 + 14*x**2/9 + 311*x/30 + 1\n"
     ]
    }
   ],
   "source": [
    "Lpolinom = LagrangePolinom(P)\n",
    "print('Lagrange Polinom:',Lpolinom)"
   ]
  },
  {
   "cell_type": "markdown",
   "metadata": {},
   "source": [
    "### Let's build a plot to show how this polinom makes interpolation"
   ]
  },
  {
   "cell_type": "code",
   "execution_count": 37,
   "metadata": {},
   "outputs": [],
   "source": [
    "x = np.linspace(-4,4,100)\n",
    "x_symb = sp.symbols('x')\n",
    "y_lambdify = sp.lambdify(x_symb, LagrangePolinom(P))\n",
    "y = y_lambdify(x)"
   ]
  },
  {
   "cell_type": "code",
   "execution_count": 38,
   "metadata": {},
   "outputs": [
    {
     "data": {
      "image/png": "[encoded data removed]",
      "text/plain": [
       "<Figure size 720x432 with 1 Axes>"
      ]
     },
     "metadata": {},
     "output_type": "display_data"
    }
   ],
   "source": [
    "plt.figure(figsize=(10,6))\n",
    "plt.scatter(P[0],P[1],color='red',label='Points')\n",
    "plt.plot(x,y,color='blue',label='Polinom')\n",
    "plt.legend()\n",
    "plt.show()\n"
   ]
  },
  {
   "cell_type": "markdown",
   "metadata": {},
   "source": [
    "### Seems pretty well"
   ]
  },
  {
   "cell_type": "markdown",
   "metadata": {},
   "source": [
    "## Answer: $$ f(x) = -\\frac{107}{90}x^{3} + \\frac{14}{9}x^{2} + \\frac{311}{30}x + 1 $$"
   ]
  },
  {
   "cell_type": "markdown",
   "metadata": {},
   "source": [
    "# Task 2\n",
    "## Find a (parametric) equation defining the Bezier curve defined by the four points whose coordinates form the columns of the matrix"
   ]
  },
  {
   "cell_type": "markdown",
   "metadata": {},
   "source": [
    "### $$ P = \\begin{bmatrix} 1 & 3 & 5 & 7 \\\\ 0 & 5 & 2 & 5 \\\\ \\end{bmatrix}$$\n",
    "## Plot the points and the curve on the coordinate plane."
   ]
  },
  {
   "cell_type": "markdown",
   "metadata": {},
   "source": [
    "### To solve this task we can use the following formula:\n",
    "### $$ B(t) = \\sum_{k=0}^{n}C_{n}^{k}(1-t)^{n-k}t^{k}P_{k} $$"
   ]
  },
  {
   "cell_type": "code",
   "execution_count": 41,
   "metadata": {},
   "outputs": [],
   "source": [
    "P = np.array([[1,3,5,7],\n",
    "              [0,5,2,5]])"
   ]
  },
  {
   "cell_type": "code",
   "execution_count": 42,
   "metadata": {},
   "outputs": [],
   "source": [
    "def param_eq(P):\n",
    "    t = sp.symbols('t')\n",
    "    n = P.shape[0]  - 1\n",
    "    B = 0\n",
    "    for k in range(n+1):\n",
    "        B += comb(n,k)*(t**k)*(1-t)**(n-k)*P[k]\n",
    "    return sp.simplify(B)"
   ]
  },
  {
   "cell_type": "code",
   "execution_count": 50,
   "metadata": {},
   "outputs": [],
   "source": [
    "t = np.linspace(0,1,100)\n",
    "t_symb = sp.symbols('t')\n",
    "x_lambdify = sp.lambdify(t_symb,param_eq(P[0]))\n",
    "y_lambdufy = sp.lambdify(t_symb,param_eq(P[1]))\n",
    "x = x_lambdify(t)\n",
    "y = y_lambdufy(t)"
   ]
  },
  {
   "cell_type": "code",
   "execution_count": 46,
   "metadata": {
    "scrolled": true
   },
   "outputs": [
    {
     "name": "stdout",
     "output_type": "stream",
     "text": [
      "x(t) = 6.0*t + 1.0\n"
     ]
    }
   ],
   "source": [
    "print('x(t) =',param_eq(P[0]))"
   ]
  },
  {
   "cell_type": "code",
   "execution_count": 48,
   "metadata": {},
   "outputs": [
    {
     "name": "stdout",
     "output_type": "stream",
     "text": [
      "y(t) = t*(14.0*t**2 - 24.0*t + 15.0)\n"
     ]
    }
   ],
   "source": [
    "print('y(t) =',param_eq(P[1]))"
   ]
  },
  {
   "cell_type": "markdown",
   "metadata": {},
   "source": [
    "## Plot"
   ]
  },
  {
   "cell_type": "code",
   "execution_count": 55,
   "metadata": {},
   "outputs": [
    {
     "data": {
      "image/png": "[encoded data removed]",
      "text/plain": [
       "<Figure size 720x432 with 1 Axes>"
      ]
     },
     "metadata": {},
     "output_type": "display_data"
    }
   ],
   "source": [
    "plt.figure(figsize=(10,6))\n",
    "plt.plot(x,y,color='red',label='Bezier curve')\n",
    "plt.plot(P[0],P[1])\n",
    "plt.title('Bezier curve')\n",
    "plt.grid()\n",
    "plt.legend()\n",
    "plt.show()"
   ]
  },
  {
   "cell_type": "markdown",
   "metadata": {},
   "source": [
    "##  Answer: $$ \\begin{cases} x(t) = 6t + 1 \\\\ y(t) = t(14t^{2} - 24t + 15) \\end{cases} $$ "
   ]
  },
  {
   "cell_type": "markdown",
   "metadata": {},
   "source": [
    "# Task 3\n",
    "## 3. Find a full rank decomposition and the pseudoinverse of the matrix"
   ]
  },
  {
   "cell_type": "markdown",
   "metadata": {},
   "source": [
    "### $$ A = \\begin{bmatrix} 7 & 9 & 5 \\\\ 4 & 0 & 5 \\\\ 1 & -9 & 5 \\\\ 10 & 18 & 5 \\\\ \\end{bmatrix} $$"
   ]
  },
  {
   "cell_type": "markdown",
   "metadata": {},
   "source": [
    "$$ A = FG ,$$ where F of full col rank and G of full row rank \n",
    "Then we can find pseudoinverse $A^{+}$:\n",
    "$$ A^{+} = G^{+}F^{+} $$\n",
    "Firsly, we have to find rank of A:"
   ]
  },
  {
   "cell_type": "markdown",
   "metadata": {},
   "source": [
    "$$ A = \\begin{bmatrix} 7 & 9 & 5 \\\\ 4 & 0 & 5 \\\\ 1 & -9 & 5 \\\\ 10 & 18 & 5 \\\\ \\end{bmatrix} \\approx \n",
    "\\begin{bmatrix} 3 & 9 & 0 \\\\ 4 & 0 & 5 \\\\ 1 & -9 & 5 \\\\ 2 & 18 & -5 \\\\ \\end{bmatrix} \\approx \n",
    "\\begin{bmatrix} 3 & 9 & 0 \\\\ 4 & 0 & 5 \\\\ 1 & -9 & 5 \\\\ -1 & 9 & -5 \\\\ \\end{bmatrix} \\approx \n",
    "\\begin{bmatrix} 4 & 0 & 5 \\\\ 4 & 0 & 5 \\\\ 1 & -9 & 5 \\\\ -1 & 9 & -5 \\\\ \\end{bmatrix} \\approx \n",
    "\\begin{bmatrix} 4 & 0 & 5 \\\\ 1 & -9 & 5 \\\\ 0 & 0 & 0 \\\\ 0 & 0 & 0 \\\\ \\end{bmatrix} \\approx\n",
    "\\begin{bmatrix} 1 & 0 & \\frac{5}{4} \\\\ 0 & 1 & -\\frac{5}{12} \\\\ 0 & 0 & 0 \\\\ 0 & 0 & 0 \\\\ \\end{bmatrix}$$\n",
    "$$rank(A) = 2$$"
   ]
  },
  {
   "cell_type": "markdown",
   "metadata": {},
   "source": [
    "And we can decompose A: A = FG:\n",
    "$$ F = \\begin{bmatrix} 7 & 9 \\\\ 4 & 0 \\\\ 1 & -9 \\\\ 10 & 18 \\\\ \\end{bmatrix} $$ "
   ]
  },
  {
   "cell_type": "markdown",
   "metadata": {},
   "source": [
    "$$ G = \\begin{bmatrix} 1 & 0 & 5 \\\\ 0 & 1 & -\\frac{5}{12} \\end{bmatrix} $$"
   ]
  },
  {
   "cell_type": "markdown",
   "metadata": {},
   "source": [
    "### Full rank decomposition:\n",
    "### $$ A = FG = \\begin{bmatrix} 7 & 9 \\\\ 4 & 0 \\\\ 1 & -9 \\\\ 10 & 18 \\\\ \\end{bmatrix} \n",
    "\\begin{bmatrix} 1 & 0 & \\frac{5}{4} \\\\ 0 & 1 & -\\frac{5}{12} \\end{bmatrix}\n",
    "$$"
   ]
  },
  {
   "cell_type": "markdown",
   "metadata": {},
   "source": [
    "Let's check it:"
   ]
  },
  {
   "cell_type": "code",
   "execution_count": 84,
   "metadata": {},
   "outputs": [
    {
     "name": "stdout",
     "output_type": "stream",
     "text": [
      "A matrix:\n",
      " [[ 7  9  5]\n",
      " [ 4  0  5]\n",
      " [ 1 -9  5]\n",
      " [10 18  5]]\n"
     ]
    }
   ],
   "source": [
    "print('A matrix:\\n',A)"
   ]
  },
  {
   "cell_type": "code",
   "execution_count": 85,
   "metadata": {},
   "outputs": [
    {
     "name": "stdout",
     "output_type": "stream",
     "text": [
      "FG matrix:\n",
      " [[ 7.  9.  5.]\n",
      " [ 4.  0.  5.]\n",
      " [ 1. -9.  5.]\n",
      " [10. 18.  5.]]\n"
     ]
    }
   ],
   "source": [
    "print('FG matrix:\\n',np.dot(F,G))"
   ]
  },
  {
   "cell_type": "markdown",
   "metadata": {},
   "source": [
    "We can coclude, that our full rank decomposition of A is true"
   ]
  },
  {
   "cell_type": "markdown",
   "metadata": {},
   "source": [
    "Then we use the following formulas:\n",
    "$$F^{+} = (F^{*}F)^{-1}F^{*} $$ \n",
    "$$G^{+} = G^{*}(GG^{*})^{-1}$$"
   ]
  },
  {
   "cell_type": "code",
   "execution_count": 96,
   "metadata": {},
   "outputs": [],
   "source": [
    "A = np.array([[7,9,5],\n",
    "              [4,0,5],\n",
    "              [1,-9,5],\n",
    "              [10,18,5]])\n",
    "\n",
    "F = np.array([[7,9],\n",
    "              [4,0],\n",
    "              [1,-9],\n",
    "              [10,18]])\n",
    "\n",
    "G = np.array([[1,0,5/4],\n",
    "              [0,1,-5/12]])"
   ]
  },
  {
   "cell_type": "code",
   "execution_count": 78,
   "metadata": {},
   "outputs": [],
   "source": [
    "F_star = F.T\n",
    "F_plus = np.linalg.inv((F_star @ F)) @ F_star\n",
    "G_star = G.T\n",
    "G_plus = G_star @ np.linalg.inv((G @ G_star))"
   ]
  },
  {
   "cell_type": "markdown",
   "metadata": {},
   "source": [
    "Finally, we can use the following formula:\n",
    "$$ A^{+} = G^{+}F^{+} $$"
   ]
  },
  {
   "cell_type": "code",
   "execution_count": 79,
   "metadata": {},
   "outputs": [],
   "source": [
    "A_plus = G_plus @ F_plus"
   ]
  },
  {
   "cell_type": "code",
   "execution_count": 92,
   "metadata": {},
   "outputs": [
    {
     "name": "stdout",
     "output_type": "stream",
     "text": [
      "A matrix: \n",
      " [[ 0.02   0.025  0.03   0.015]\n",
      " [ 0.004 -0.02  -0.043  0.028]\n",
      " [ 0.024  0.04   0.056  0.008]]\n"
     ]
    }
   ],
   "source": [
    "print('A matrix: \\n',np.round(A_plus,decimals=3))"
   ]
  },
  {
   "cell_type": "markdown",
   "metadata": {},
   "source": [
    "Let's check it using the following formula:\n",
    "$$ A^{+}AA^{+} = A^{+} $$"
   ]
  },
  {
   "cell_type": "code",
   "execution_count": 93,
   "metadata": {},
   "outputs": [
    {
     "data": {
      "text/plain": [
       "array([[ 0.02038917,  0.02529611,  0.03020305,  0.01548223],\n",
       "       [ 0.00431472, -0.01954315, -0.04340102,  0.02817259],\n",
       "       [ 0.02368866,  0.03976311,  0.05583756,  0.00761421]])"
      ]
     },
     "execution_count": 93,
     "metadata": {},
     "output_type": "execute_result"
    }
   ],
   "source": [
    "A_plus @ A @ A_plus"
   ]
  },
  {
   "cell_type": "code",
   "execution_count": 81,
   "metadata": {},
   "outputs": [
    {
     "data": {
      "text/plain": [
       "array([[ 0.02038917,  0.02529611,  0.03020305,  0.01548223],\n",
       "       [ 0.00431472, -0.01954315, -0.04340102,  0.02817259],\n",
       "       [ 0.02368866,  0.03976311,  0.05583756,  0.00761421]])"
      ]
     },
     "execution_count": 81,
     "metadata": {},
     "output_type": "execute_result"
    }
   ],
   "source": [
    "A_plus"
   ]
  },
  {
   "cell_type": "markdown",
   "metadata": {},
   "source": [
    "We see, that this matrices are equal."
   ]
  },
  {
   "cell_type": "markdown",
   "metadata": {},
   "source": [
    "## Answer:\n",
    "### 1) Full rank decomposition:\n",
    "### $$ A = FG = \\begin{bmatrix} 7 & 9 \\\\ 4 & 0 \\\\ 1 & -9 \\\\ 10 & 18 \\\\ \\end{bmatrix} \n",
    "\\begin{bmatrix} 1 & 0 & \\frac{5}{4} \\\\ 0 & 1 & -\\frac{5}{12} \\end{bmatrix}\n",
    "$$\n",
    "### 2) Pseudoinverse of A\n",
    "### $$ A^{+} = \\begin{bmatrix} 0.02 & 0.025 & 0.03 & 0.015 \\\\ \n",
    "0.004 & -0.02 & -0.043 & 0.028 \\\\ 0.024 & 0.04 & 0.056 & 0.008 \\end{bmatrix} $$"
   ]
  },
  {
   "cell_type": "markdown",
   "metadata": {},
   "source": [
    "# Task 4\n",
    "## Find the minimal length least squares solution of the system of linear equations"
   ]
  },
  {
   "cell_type": "markdown",
   "metadata": {},
   "source": [
    "### $$ \\begin{cases} 14x + 13y + 8z + 3t = 4 \\\\ 7x + 9y + 5z + 4t = 6 \\\\\n",
    "0x + 5y + 2z + 5t = 3 \\\\ 4x + 4y + 9z + 4t = 3 \\end{cases} $$"
   ]
  },
  {
   "cell_type": "markdown",
   "metadata": {},
   "source": [
    "We can represent this system of linear equations in the following form:"
   ]
  },
  {
   "cell_type": "markdown",
   "metadata": {},
   "source": [
    "$$ A \\vec x = \\vec b,$$\n",
    "where $$ A = \\begin{bmatrix} 14 & 13 & 8 & 3 \\\\ 7 & 9 & 5 & 4 \\\\ 0 & 5 & 2 & 5 \\\\\n",
    "4 & 4 & 9 & 4 \\end{bmatrix} $$ \n",
    "\n",
    "$$ \\vec x = \\begin{bmatrix} x \\\\ y \\\\ z \\\\ t \\end{bmatrix},  \\vec b = \\begin{bmatrix} 4 \\\\ 6 \\\\ 3 \\\\ 3 \\end{bmatrix}$$\n",
    "\n"
   ]
  },
  {
   "cell_type": "markdown",
   "metadata": {},
   "source": [
    "We want to find $\\vec x$, to do this we can use the following step: \n",
    "$$ \\vec x = A^{+}\\vec b$$"
   ]
  },
  {
   "cell_type": "markdown",
   "metadata": {},
   "source": [
    "Firstly, we have to find $rank(A)$:\n",
    "$$ \\begin{bmatrix} 14 & 13 & 8 & 3 \\\\ 7 & 9 & 5 & 4 \\\\ 0 & 5 & 2 & 5 \\\\ 4 & 4 & 9 & 4 \\end{bmatrix} \\approx \n",
    "\\begin{bmatrix} 0 & -5 & -2 & -5 \\\\ 7 & 9 & 5 & 4 \\\\ 0 & 5 & 2 & 5 \\\\ 4 & 4 & 9 & 4 \\end{bmatrix} \\approx \n",
    "\\begin{bmatrix} 0 & 0 & 0 & 0 \\\\ -1 & 1 & -13 & -4 \\\\ 0 & 5 & 2 & 5 \\\\ 4 & 4 & 9 & 4 \\end{bmatrix} \\approx\n",
    "\\begin{bmatrix} -1 & 1 & -13 & -4 \\\\ 0 & 8 & -43 & -12 \\\\ 0 & 5 & 2 & 5 \\\\ 0 & 0 & 0 & 0 \\end{bmatrix} \\approx\n",
    "\\begin{bmatrix} -1 & 1 & -13 & -4 \\\\ 0 & 1 & \\frac{2}{5} & 1 \\\\ 0 & 0 & -\\frac{231}{5} & -20 \\\\ 0 & 0 & 0 & 0 \\end{bmatrix} \\approx\n",
    "\\begin{bmatrix} 1 & 0 & 0 & -\\frac{185}{231} \\\\ 0 & 1 & 0 & \\frac{191}{231} \\\\ 0 & 0 & 1 & \\frac{100}{231} \\\\ 0 & 0 & 0 & 0 \\end{bmatrix} \n",
    "$$"
   ]
  },
  {
   "cell_type": "markdown",
   "metadata": {},
   "source": [
    "Therefore, $rank(A)=3$ and to find $A^{+} = G^{+}F^{+}$ and to calculate it, we can use formulas from previous task."
   ]
  },
  {
   "cell_type": "code",
   "execution_count": 104,
   "metadata": {},
   "outputs": [],
   "source": [
    "A = np.array([[14,13,8,3],\n",
    "              [7,9,5,4],\n",
    "              [0,5,2,5],\n",
    "              [4,4,9,4]])\n",
    "\n",
    "b = np.array([[4,6,3,3]]).T\n",
    "\n",
    "F = np.array([[14,13,8],\n",
    "              [7,9,5],\n",
    "              [0,5,2],\n",
    "              [4,4,9]])\n",
    "\n",
    "G = np.array([[1,0,0,-185/231],\n",
    "              [0,1,0,191/231],\n",
    "              [0,0,1,100/231]])"
   ]
  },
  {
   "cell_type": "code",
   "execution_count": 99,
   "metadata": {},
   "outputs": [],
   "source": [
    "F_star = F.T\n",
    "F_plus = np.linalg.inv((F_star @ F)) @ F_star\n",
    "G_star = G.T\n",
    "G_plus = G_star @ np.linalg.inv((G @ G_star))"
   ]
  },
  {
   "cell_type": "code",
   "execution_count": 100,
   "metadata": {},
   "outputs": [],
   "source": [
    "A_plus = G_plus @ F_plus"
   ]
  },
  {
   "cell_type": "code",
   "execution_count": 103,
   "metadata": {},
   "outputs": [
    {
     "name": "stdout",
     "output_type": "stream",
     "text": [
      "Pseudoinverse matrix of A: \n",
      " [[ 0.06262416 -0.00878417 -0.08019249 -0.01763297]\n",
      " [ 0.01642587  0.04690689  0.07738792 -0.07368704]\n",
      " [-0.01583288 -0.03128784 -0.0467428   0.14466647]\n",
      " [-0.04342605  0.03227491  0.10797586  0.01582045]]\n"
     ]
    }
   ],
   "source": [
    "print('Pseudoinverse matrix of A: \\n',A_plus)"
   ]
  },
  {
   "cell_type": "markdown",
   "metadata": {},
   "source": [
    "Finally, we can find least square solution of our system"
   ]
  },
  {
   "cell_type": "code",
   "execution_count": 106,
   "metadata": {},
   "outputs": [],
   "source": [
    "x = A_plus @ b"
   ]
  },
  {
   "cell_type": "code",
   "execution_count": 109,
   "metadata": {},
   "outputs": [
    {
     "name": "stdout",
     "output_type": "stream",
     "text": [
      "Least square solution: \n",
      " [[-0.096]\n",
      " [ 0.358]\n",
      " [ 0.043]\n",
      " [ 0.391]]\n"
     ]
    }
   ],
   "source": [
    "print('Least square solution: \\n',np.round(x,3))"
   ]
  },
  {
   "cell_type": "markdown",
   "metadata": {},
   "source": [
    "## Answer: \n",
    "### $$\\vec x = \\begin{bmatrix} -0.096 \\\\ 0.358 \\\\ 0.043 \\\\ 0.391 \\end{bmatrix}$$"
   ]
  },
  {
   "cell_type": "markdown",
   "metadata": {},
   "source": [
    "# Task 5 \n",
    "## For the polynomial $x^{3} + 3x^{2} − 4x − 5$ find the best approximation with respect to the norm $\\int_{1}^{2}|f(x)|dx $ by a polynomial of degree 2 on a line segment [1,2]\n"
   ]
  },
  {
   "cell_type": "markdown",
   "metadata": {},
   "source": [
    "We can reformulate this task in the following form:\n",
    "$$ ||x^{3}+3x^{2}-4x-5 - P_{2}(x)||_{1} \\rightarrow min $$ where $ x \\in [1,2] $, norm $|f|_{1} = \\int_{-1}^{1}|f(x)|dx$"
   ]
  },
  {
   "cell_type": "markdown",
   "metadata": {},
   "source": [
    "However, our segment is differ from $[-1,1]$, so, firstly, we have to solve this problem. To do it, we can use the following formula:\n",
    "$$x = \\frac{\\tilde x - \\frac{a+b}{2}}{b-a},$$"
   ]
  },
  {
   "cell_type": "markdown",
   "metadata": {},
   "source": [
    "where $a = 1, b = 2$. So, $\\frac{x-\\frac{3}{2}}{1} = x - \\frac{3}{2} $. Using this fact and formula: \n",
    "$$ U_{n}(x) = \\frac{1}{n+1}T_{n+1}^{'}(x)$$ for $n \\geqslant 0$"
   ]
  },
  {
   "cell_type": "markdown",
   "metadata": {},
   "source": [
    "$\\bar U(x) = \\frac{1}{8} U_{3}(x-\\frac{3}{2}) = \\frac{1}{8}(8(x-\\frac{3}{2})^{3} - 4(x-\\frac{3}{2})) = \n",
    "(x - \\frac{3}{2})^{3} - \\frac{1}{2}(x - \\frac{3}{2}) = (x-\\frac{3}{2})((x-\\frac{3}{2})^{2} - \\frac{1}{2}) = \n",
    "(x-\\frac{3}{2})(x^{2} - 3x + \\frac{7}{4}) = x^{3} - \\frac{9}{2}x^{2} + \\frac{25}{4}x - \\frac{21}{8}$"
   ]
  },
  {
   "cell_type": "markdown",
   "metadata": {},
   "source": [
    "To find $P_{2}(x)$ we have to use this: $ x^{3} + 3x^{2} - 4x - 5 - P_{2}(x) = \\bar U_{3}(x) $\n",
    "\n",
    "Then $P_{2}(x) = \n",
    " x^{3} + 3x^{2} - 4x - 5 - x^{3} + \\frac{9}{2}x^{2} - \\frac{25}{4}x + \\frac{21}{8} = \\pmb{\\frac{15}{2}x^{2} - \\frac{41}{4}x - \\frac{19}{8}}$"
   ]
  },
  {
   "cell_type": "markdown",
   "metadata": {},
   "source": [
    "Let's build a plot to check it."
   ]
  },
  {
   "cell_type": "code",
   "execution_count": 127,
   "metadata": {},
   "outputs": [],
   "source": [
    "x = np.linspace(1,2,100)\n",
    "y_real = x**3 + 3*x**2 - 4*x - 5\n",
    "y_cheb = (15/2)*x**2 - (41/4)*x - 19/8 "
   ]
  },
  {
   "cell_type": "code",
   "execution_count": 128,
   "metadata": {},
   "outputs": [
    {
     "data": {
      "image/png": "[encoded data removed]",
      "text/plain": [
       "<Figure size 720x432 with 1 Axes>"
      ]
     },
     "metadata": {},
     "output_type": "display_data"
    }
   ],
   "source": [
    "plt.figure(figsize=(10,6))\n",
    "plt.plot(x,y_real,color='r',label='Polinom of degree 3')\n",
    "plt.plot(x,y_cheb,color='g',label='Polinom of degree 2')\n",
    "plt.legend()\n",
    "plt.show()"
   ]
  },
  {
   "cell_type": "markdown",
   "metadata": {},
   "source": [
    "## Answer: $$ P_{2}(x) = \\frac{15}{2}x^{2} - \\frac{41}{4}x - \\frac{19}{8}$$"
   ]
  },
  {
   "cell_type": "markdown",
   "metadata": {},
   "source": [
    "# Task 6\n",
    "## Find all the values of q such that the equation $2x^{2} + y^{2}(4q+1) + yz(-2q+4) + z^{2}(4q+2) = 1$ defines a unit circle with respect to some norm? Find the value of this norm fro the vector $(1,1,1)$ as a function of q."
   ]
  },
  {
   "cell_type": "markdown",
   "metadata": {},
   "source": [
    "To solve this task we have to use Minkovsky theorem. Firstly, let's build matrix of quadratic form:"
   ]
  },
  {
   "cell_type": "markdown",
   "metadata": {},
   "source": [
    "$$ Q = \\begin{bmatrix} 2 & 0 & 0 \\\\ 0 & (4q+1) & (-2q+4) \\\\ 0 & (-2q+4) & (4q+2) \\end{bmatrix}$$"
   ]
  },
  {
   "cell_type": "markdown",
   "metadata": {},
   "source": [
    "$\\vartriangle_{1} = 2 > 0 $, not depends on $q$\n",
    "\n",
    "$\\vartriangle_{2} = 8q + 2 > 0$, $q > -\\frac{1}{4} = -0.25$\n",
    "\n",
    "$\\vartriangle_{3} = 2(4q+1)(4q+2) - 2(4-2q)^{2} > 0$, so $ q \\in [-\\infty,-0.18]\\cup[0.113,+\\infty]$ (approximately)"
   ]
  },
  {
   "cell_type": "markdown",
   "metadata": {},
   "source": [
    "When Q is positive defined, all conditions of Minkovsky theorem are true. To satisfy this, q must be from $(0.113,+\\infty)$. Then our equation defines a unit circle."
   ]
  },
  {
   "cell_type": "markdown",
   "metadata": {},
   "source": [
    "To find the value of this norm from the vector (1,1,1) as a function of q we need to find t from the following equation:\n",
    "$$2t^{2} + t^{2}(4q+1) + t^{2}(-2q+4) + t^{2}(4q+2) = 1$$\n",
    "$$t^{2}(2+4q+1-2q+4+4q+2) = 1$$\n",
    "$$t^{2}(6q+9)=1$$\n",
    "$$t^{2} = \\frac{1}{6q+9}$$\n",
    "$$t = \\frac{1}{\\sqrt{6q+9}}$$\n",
    "So, our norm $N((1,1,1))=\\sqrt{6q+9}$ "
   ]
  },
  {
   "cell_type": "markdown",
   "metadata": {},
   "source": [
    "## Answer:\n",
    "### 1) Values of q: \n",
    "### $$q \\in (0.113,+\\infty)$$\n",
    "### 2) Value of norm from $(1,1,1)$\n",
    "### $$N((1,1,1)) = \\sqrt{6q+9}$$"
   ]
  },
  {
   "cell_type": "code",
   "execution_count": null,
   "metadata": {},
   "outputs": [],
   "source": []
  },
  {
   "cell_type": "code",
   "execution_count": 2,
   "metadata": {},
   "outputs": [],
   "source": [
    "A = np.array([[6,30,-21],\n",
    "              [17,10,-22]])"
   ]
  },
  {
   "cell_type": "code",
   "execution_count": 7,
   "metadata": {},
   "outputs": [],
   "source": [
    "AA_plus = A @ A.T"
   ]
  },
  {
   "cell_type": "code",
   "execution_count": 8,
   "metadata": {},
   "outputs": [],
   "source": [
    "eigenvalues = np.linalg.eigvals(A @ A.T)"
   ]
  },
  {
   "cell_type": "code",
   "execution_count": 9,
   "metadata": {},
   "outputs": [
    {
     "name": "stdout",
     "output_type": "stream",
     "text": [
      "[45. 15.]\n"
     ]
    }
   ],
   "source": [
    "singularvalues = np.sqrt(eigenvalues)\n",
    "print(singularvalues)"
   ]
  },
  {
   "cell_type": "code",
   "execution_count": 11,
   "metadata": {},
   "outputs": [
    {
     "data": {
      "text/plain": [
       "array([[ 0.8, -0.6],\n",
       "       [ 0.6,  0.8]])"
      ]
     },
     "execution_count": 11,
     "metadata": {},
     "output_type": "execute_result"
    }
   ],
   "source": [
    "np.linalg.eig(AA_plus)[1]"
   ]
  },
  {
   "cell_type": "code",
   "execution_count": 12,
   "metadata": {},
   "outputs": [
    {
     "data": {
      "text/plain": [
       "(array([[-0.8, -0.6],\n",
       "        [-0.6,  0.8]]),\n",
       " array([45., 15.]),\n",
       " array([[-0.33333333, -0.66666667,  0.66666667],\n",
       "        [ 0.66666667, -0.66666667, -0.33333333],\n",
       "        [ 0.66666667,  0.33333333,  0.66666667]]))"
      ]
     },
     "execution_count": 12,
     "metadata": {},
     "output_type": "execute_result"
    }
   ],
   "source": [
    "np.linalg.svd(A)"
   ]
  },
  {
   "cell_type": "code",
   "execution_count": null,
   "metadata": {},
   "outputs": [],
   "source": []
  }
 ],
 "metadata": {
  "kernelspec": {
   "display_name": "Python 3",
   "language": "python",
   "name": "python3"
  },
  "language_info": {
   "codemirror_mode": {
    "name": "ipython",
    "version": 3
   },
   "file_extension": ".py",
   "mimetype": "text/x-python",
   "name": "python",
   "nbconvert_exporter": "python",
   "pygments_lexer": "ipython3",
   "version": "3.6.4"
  }
 },
 "nbformat": 4,
 "nbformat_minor": 4
}
