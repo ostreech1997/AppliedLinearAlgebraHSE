{
 "cells": [
  {
   "cell_type": "markdown",
   "metadata": {},
   "source": [
    "# Jacob Malyshev\n",
    "# Variant 20 "
   ]
  },
  {
   "cell_type": "code",
   "execution_count": 154,
   "metadata": {},
   "outputs": [],
   "source": [
    "import numpy as np\n",
    "import matplotlib.pyplot as plt\n",
    "import math\n",
    "from scipy.special import comb\n",
    "import sympy as sp \n",
    "np.set_printoptions(suppress=True, precision=2, linewidth=120)"
   ]
  },
  {
   "cell_type": "code",
   "execution_count": 39,
   "metadata": {},
   "outputs": [],
   "source": [
    "from IPython.display import display, Math"
   ]
  },
  {
   "cell_type": "markdown",
   "metadata": {},
   "source": [
    "## Useful functions"
   ]
  },
  {
   "cell_type": "code",
   "execution_count": 7,
   "metadata": {},
   "outputs": [
    {
     "data": {
      "text/plain": [
       "array([[ 3,  0],\n",
       "       [ 4, -4]])"
      ]
     },
     "execution_count": 7,
     "metadata": {},
     "output_type": "execute_result"
    }
   ],
   "source": [
    "A_hat"
   ]
  },
  {
   "cell_type": "code",
   "execution_count": 9,
   "metadata": {},
   "outputs": [
    {
     "data": {
      "text/plain": [
       "array([ 7, -4])"
      ]
     },
     "execution_count": 9,
     "metadata": {},
     "output_type": "execute_result"
    }
   ],
   "source": [
    "np.sum(A_hat, axis=0)"
   ]
  },
  {
   "cell_type": "code",
   "execution_count": 295,
   "metadata": {},
   "outputs": [],
   "source": [
    "def norm_1(A):\n",
    "    return np.max(np.sum(np.abs(A),axis=0))\n",
    "def norm_inf(A):\n",
    "    return np.max(np.sum(np.abs(A),axis=1))\n",
    "def norm_1vec(b):\n",
    "    return np.sum(np.abs(b))\n",
    "def norm_2vec(b):\n",
    "    return np.sqrt(np.sum(b**2))\n",
    "def norm_2(A):\n",
    "    return np.sqrt(np.max(np.linalg.eig(A.T@A)[0]))"
   ]
  },
  {
   "cell_type": "markdown",
   "metadata": {},
   "source": [
    "# Task 1 \n",
    "## Find the best approximation matrix $A_1$ of rank 2 of the matrix A in the norm $||\\cdot||_{2}$ and find $||A - A_1||_2$, where $$ A = \\begin{bmatrix} 44 & -80 & -5 & -96 \\\\4 & 32 & -106 & 60 \\\\ -80 & 8 & 14 & -66 \\end{bmatrix}$$"
   ]
  },
  {
   "cell_type": "code",
   "execution_count": 292,
   "metadata": {},
   "outputs": [],
   "source": [
    "A = np.array([[44,-80,-5,-96],\n",
    "              [4,32,-106,60],\n",
    "              [-80, 8, 14, -66]])"
   ]
  },
  {
   "cell_type": "markdown",
   "metadata": {},
   "source": [
    "Firstly, we have to find singular value decomposition of $A$: $A = V\\Sigma U^{*}$"
   ]
  },
  {
   "cell_type": "code",
   "execution_count": 293,
   "metadata": {},
   "outputs": [],
   "source": [
    "U,Sigma,V = np.linalg.svd(A)"
   ]
  },
  {
   "cell_type": "markdown",
   "metadata": {},
   "source": [
    "Rank of $A_1$ must be equal to 2, so we choose first two singular values of $A$ and build new $\\Sigma_{1}$ in the following way: take first two rows of $\\Sigma$, other rows consist of zeros.\n",
    "    "
   ]
  },
  {
   "cell_type": "code",
   "execution_count": 294,
   "metadata": {},
   "outputs": [],
   "source": [
    "Sigma1 = np.array([[Sigma[0],0,0,0],\n",
    "                   [0,Sigma[1],0,0],\n",
    "                   [0, 0, 0, 0]])"
   ]
  },
  {
   "cell_type": "markdown",
   "metadata": {},
   "source": [
    "### $$\\Sigma = \\begin{pmatrix} 162 & 0 & 0 & 0 \\\\ 0 & 108 & 0 & 0\\\\ 0 & 0 & 81 & 0\\end{pmatrix}, \\Sigma_1 = \\begin{pmatrix} 162 & 0 & 0 & 0\\\\ 0 & 108 & 0 & 0\\\\ 0 & 0 & 0 & 0\\end{pmatrix} $$"
   ]
  },
  {
   "cell_type": "markdown",
   "metadata": {},
   "source": [
    "Finally, we can get $A_1$ matrix, using the following formula: $A_1 = V \\Sigma_{1} U^{*}$"
   ]
  },
  {
   "cell_type": "code",
   "execution_count": 295,
   "metadata": {},
   "outputs": [],
   "source": [
    "A1 = U @ Sigma1 @ V"
   ]
  },
  {
   "cell_type": "markdown",
   "metadata": {},
   "source": [
    "$$\\pmb{A_1 = \\begin{pmatrix} 56 & -80 & 16 & -84 \\\\ 28 & 32 & -64 & 84 \\\\ -56 & 8 & 56 & -42 \\end{pmatrix}}$$"
   ]
  },
  {
   "cell_type": "markdown",
   "metadata": {},
   "source": [
    "Matrix $A_1$ is the best approximation of the matrix $A$ in the norm $||\\cdot||_2$. Let's find $||A-A_1||_2$"
   ]
  },
  {
   "cell_type": "code",
   "execution_count": 297,
   "metadata": {},
   "outputs": [],
   "source": [
    "dA = A - A1"
   ]
  },
  {
   "cell_type": "markdown",
   "metadata": {},
   "source": [
    "To calculate $||A-A_1||_2$, we have to do several steps:\n",
    "\n",
    "1) Calculate $A-A_1$: $$A-A_1 = \\begin{pmatrix} -12 & 0 & -21 & -12 \\\\ -24 & 0 & -42 & -24 \\\\ -24 & 0 & -42 & -24 \\end{pmatrix}$$\n",
    "2) Calculate $||A-A_1||_2$ = $\\sqrt{\\lambda_{max} ((A-A_1)^{*}(A-A_1))}$"
   ]
  },
  {
   "cell_type": "code",
   "execution_count": 298,
   "metadata": {},
   "outputs": [],
   "source": [
    "dA_star = dA.T\n",
    "eigenvalues,_ = np.linalg.eig(dA_star @ dA)\n",
    "lambda_max = np.max(eigenvalues)\n",
    "norm2 = np.sqrt(lambda_max)"
   ]
  },
  {
   "cell_type": "markdown",
   "metadata": {},
   "source": [
    "Finally, we found, that $\\pmb{||A-A_1||_2 = 81}$"
   ]
  },
  {
   "cell_type": "markdown",
   "metadata": {},
   "source": [
    "## Answer:\n",
    "## 1) $$A_1 = \\begin{pmatrix} 56 & -80 & 16 & -84 \\\\ 28 & 32 & -64 & 84 \\\\ -56 & 8 & 56 & -42 \\end{pmatrix}$$\n",
    "## 2) $$||A-A_1||_2 = 81$$"
   ]
  },
  {
   "cell_type": "markdown",
   "metadata": {},
   "source": [
    "# Task 2 \n",
    "## Estimate the relative error of the approximate solution $(1,1)$ of the system $AX = b$ in the norms $|\\cdot|_1$ and $|\\cdot|_2$ using the condition number of the matrix $A$, where\n",
    "## $$ A = \\begin{pmatrix} 2.92 & -0.02 \\\\ 3.96 & -4.13 \\end{pmatrix}, b = \\begin{pmatrix} 3.11 \\\\ 0.02 \\end{pmatrix}$$"
   ]
  },
  {
   "cell_type": "markdown",
   "metadata": {},
   "source": [
    "Firslty, let's write $\\widehat{A}$, $\\widehat{b}$, $\\widehat{x}$:\n",
    "$$\\widehat{A} = \\begin{pmatrix} 3 & 0 \\\\ 4 & -4 \\end{pmatrix}, \\widehat{b} = \\begin{pmatrix} 3 \\\\ 0 \\end{pmatrix}, \\widehat{x} = \\begin{pmatrix} 1 \\\\ 1 \\end{pmatrix}$$"
   ]
  },
  {
   "cell_type": "code",
   "execution_count": 4,
   "metadata": {},
   "outputs": [],
   "source": [
    "A = np.array([[2.92, -0.02],\n",
    "              [3.96, -4.13]])\n",
    "b = np.array([3.11,0.02]).reshape(-1,1)\n",
    "A_hat = np.array([[3,0],\n",
    "                  [4,-4]])\n",
    "b_hat = np.array([[3],\n",
    "                  [0]])\n",
    "x_hat = np.array([[1],\n",
    "                 [1]])"
   ]
  },
  {
   "cell_type": "markdown",
   "metadata": {},
   "source": [
    "Then we have to calculate condition numbers $\\chi_1(\\widehat A)$,$\\chi_2(\\widehat A)$:\n",
    "$$\\chi_1(\\widehat A) = ||\\widehat A||_{1} ||\\widehat A^{-1}||_{1},$$ where $||\\widehat A||_{1} = \\displaystyle\\max_{j}|\\widehat A^{j}|$\n",
    "$$\\chi_2(\\widehat A) = \\sqrt{\\frac{\\lambda_{max}(\\widehat A^{*} \\widehat A)}{\\lambda_{min}(\\widehat A^{*} \\widehat A)}}$$\n"
   ]
  },
  {
   "cell_type": "code",
   "execution_count": 47,
   "metadata": {},
   "outputs": [],
   "source": [
    "A_hat_inv = np.linalg.inv(A_hat)\n",
    "Chi_1 = norm_1(A_hat) * norm_1(A_hat_inv)"
   ]
  },
  {
   "cell_type": "markdown",
   "metadata": {},
   "source": [
    "To find $\\chi_{2}(\\widehat A)$ we have to find eigenvalues of $\\widehat A^{*} \\widehat A$, using the following steps:"
   ]
  },
  {
   "cell_type": "code",
   "execution_count": 48,
   "metadata": {},
   "outputs": [],
   "source": [
    "Dot_AhatStar_Ahat = A_hat.T @ A_hat "
   ]
  },
  {
   "cell_type": "code",
   "execution_count": 49,
   "metadata": {},
   "outputs": [],
   "source": [
    "Chi_2 = np.sqrt(37.12/3.879)"
   ]
  },
  {
   "cell_type": "markdown",
   "metadata": {},
   "source": [
    "$$\\widehat A^{*} \\widehat A = \\begin{pmatrix} 25 & -16 \\\\ -16 & 16 \\end{pmatrix}$$\n",
    "\n",
    "$$\\begin{vmatrix} 25 - \\lambda & -16 \\\\ -16 & 16 - \\lambda \\end{vmatrix} = 0$$\n",
    "\n",
    "$$(25 - \\lambda)(16-\\lambda)-256 = 0$$\n",
    "\n",
    "We solve this quadratic equation and get two eigenvalues: $\\lambda_1 = \\lambda_{max}(\\widehat A^{*} \\widehat A) = 37.12$, $\\lambda_2 = \\lambda_{min}(\\widehat A^{*} \\widehat A) = 3.87$, and we can calculate $\\chi_{2}(\\widehat A)$"
   ]
  },
  {
   "cell_type": "markdown",
   "metadata": {},
   "source": [
    "Let's write our conditional numbers: $\\chi_{1}(\\widehat A) = 4.67$, $\\chi_{2}(\\widehat A) = 3.1$."
   ]
  },
  {
   "cell_type": "markdown",
   "metadata": {},
   "source": [
    "Finally, we can estimate the relative error of $\\widehat x$ in the norms $|\\cdot|_{1}$,$|\\cdot|_{2}$ using the following formula:\n",
    "\n",
    "$$\\frac{\\delta b + \\delta A}{\\chi(A)} \\leq \\delta x \\leq \\chi(A)(\\delta b + \\delta A),$$\n"
   ]
  },
  {
   "cell_type": "markdown",
   "metadata": {},
   "source": [
    "To solve this task we have to find $\\delta A$ and $\\delta b$. To do this we can use the following formulas:\n",
    "\n",
    "$$\\delta A = \\frac{||\\Delta A||}{||A||}= \\frac{||\\widehat A - A||}{||A||}$$\n",
    "\n",
    "$$\\delta b = \\frac{|\\Delta b|}{|b|}= \\frac{|\\widehat b - b|}{|b|}$$"
   ]
  },
  {
   "cell_type": "markdown",
   "metadata": {},
   "source": [
    "For $|\\cdot|_{1}$ we define two functions: 'norm_1(A)' for matrix and 'norm_1vec(b)' for vector: $\\delta_{1}A = 0.022$, $\\delta_{1}b = 0.042$. So, $\\pmb{\\delta_{1}x \\in [0.0135, 0.296 ]}$"
   ]
  },
  {
   "cell_type": "code",
   "execution_count": 59,
   "metadata": {
    "scrolled": true
   },
   "outputs": [],
   "source": [
    "# First norm\n",
    "deltaA_1 = norm_1(A_hat - A)/norm_1(A)\n",
    "deltab_1 = norm_1vec(b_hat - b)/norm_1vec(b)\n",
    "x_min = (deltaA_1 + deltab_1)/Chi_1\n",
    "x_max = (deltaA_1 + deltab_1)*Chi_1"
   ]
  },
  {
   "cell_type": "code",
   "execution_count": 72,
   "metadata": {},
   "outputs": [
    {
     "name": "stdout",
     "output_type": "stream",
     "text": [
      "x_min in norm 1:0.013571972551558691\n",
      "x_max in norm 1:0.29556740223394473\n"
     ]
    }
   ],
   "source": [
    "print('x_min in norm 1:{}'.format(x_min))\n",
    "print('x_max in norm 1:{}'.format(x_max))"
   ]
  },
  {
   "cell_type": "code",
   "execution_count": 65,
   "metadata": {},
   "outputs": [
    {
     "name": "stdout",
     "output_type": "stream",
     "text": [
      "[[0.008 0.007]\n",
      " [0.007 0.017]]\n"
     ]
    }
   ],
   "source": [
    "print((A_hat - A).T @ (A_hat - A))"
   ]
  },
  {
   "cell_type": "markdown",
   "metadata": {},
   "source": [
    "For $|\\cdot|_{2}$ we have to calculate eigenvalues of $(\\widehat A - A)^{*}(\\widehat A - A)$ and $A$. We also have to calculate $|b|_{2}$ and $|\\widehat b - b|_{2}$, using $|\\cdot|_{2}$ for vectors."
   ]
  },
  {
   "cell_type": "markdown",
   "metadata": {},
   "source": [
    "$$ (\\widehat A - A)^{*}(\\widehat A - A) = \\begin{pmatrix} 0.008 & 0.007 \\\\ 0.007 & 0.017 \\end{pmatrix}$$ \n",
    "\n",
    "$$\\begin{vmatrix} 0.008 - \\lambda & 0.007 \\\\ 0.007 & 0.017 - \\lambda \\end{vmatrix} = 0$$\n",
    "\n",
    "$$(0.008 - \\lambda)(0.017 - \\lambda) - 0.000049 = 0$$"
   ]
  },
  {
   "cell_type": "markdown",
   "metadata": {},
   "source": [
    "We solve this quadratic equation and get two eigenvalues: $\\lambda_{1} = 0.004$, $\\lambda_{2} = 0.021 = \\lambda_{max} ((\\widehat A - A)^{*}(\\widehat A - A))$. Then, we have to find $\\lambda_{max}(A)$"
   ]
  },
  {
   "cell_type": "markdown",
   "metadata": {},
   "source": [
    "$$A = \\begin{pmatrix} 2.92 & -0.02 \\\\ 3.96 & -4.13 \\end{pmatrix}$$\n",
    "\n",
    "$$\\begin{vmatrix} 2.92 - \\lambda & -0.02 \\\\ 3.96 & -4.13 - \\lambda \\end{vmatrix} = 0$$\n",
    "\n",
    "$$(2.92 - \\lambda)(-4.13 - \\lambda) - 0.083 = 0$$"
   ]
  },
  {
   "cell_type": "markdown",
   "metadata": {},
   "source": [
    "We solve this quadratic equation and get two eigenvalues: $\\lambda_{1} = -4.119$, $\\lambda_{2} = 2.909 = \\lambda_{max} (A)$ and we can find $\\delta_{2}A = \\frac{\\sqrt{0.021}}{\\sqrt{2.909}} = 0.085$"
   ]
  },
  {
   "cell_type": "markdown",
   "metadata": {},
   "source": [
    "The last step is to find $\\delta_{2} b$:\n",
    "\n",
    "$$|b|_{2} = \\sqrt{\\sum_{i=1}^{n}b_{i}^{2}} = 3.11$$\n",
    "\n",
    "$$\\Delta b = \\begin{pmatrix} -0.11 \\\\ -0.02 \\end{pmatrix} \\rightarrow  |\\Delta b|_{2} = \\sqrt{\\sum_{i=1}^{n}\\Delta b_{i}^{2}} = 0.11$$ "
   ]
  },
  {
   "cell_type": "markdown",
   "metadata": {},
   "source": [
    "Finally, we can find $\\delta_{2} b = \\frac{0.11}{3.11} = 0.035$ and can calculate $\\pmb{\\delta_{2}x \\in [0.0388, 0.371]}$"
   ]
  },
  {
   "cell_type": "markdown",
   "metadata": {},
   "source": [
    "## Answer:\n",
    "## $\\delta_{1}x = [0.0135,0.296]$\n",
    "## $\\delta_{2}x = [0.0388,0.371]$"
   ]
  },
  {
   "cell_type": "markdown",
   "metadata": {},
   "source": [
    "# Task 3\n",
    "## Solve the system approximately and estimate the error of the solution in the norms $|\\cdot|_1$, $|\\cdot|_2$, $|\\cdot|_\\infty$: \n",
    "## $$ \\begin{cases} 3(2+\\epsilon_1)x + 2(-5 + \\epsilon_2)y = 1 + \\epsilon_3 \\\\ 1x + (-3 + \\epsilon_1)y = -1 + \\epsilon_4 \\end{cases} $$ \n",
    "## where the unknown numbers $\\epsilon_j$ satisfy the conditions $|\\epsilon_j| < 0.05$ for all $j=1,...,4$"
   ]
  },
  {
   "cell_type": "markdown",
   "metadata": {},
   "source": [
    "Firstly, we write our matrix $A$, $\\widehat A$, $b$, $\\widehat b$:\n",
    "\n",
    "$$A = \\widehat A + \\Delta A = \\begin{pmatrix} 6 & -10 \\\\ 1 & -3 \\end{pmatrix} + \\begin{pmatrix} \\epsilon_{1} & 2\\epsilon_{2} \\\\ 0 & \\epsilon_{1} \\end{pmatrix}$$\n",
    "\n",
    "$$b = \\widehat b + \\Delta b = \\begin{pmatrix} 1 \\\\ -1 \\end{pmatrix} + \\begin{pmatrix} \\epsilon_{3} \\\\ \\epsilon_{4} \\end{pmatrix}$$"
   ]
  },
  {
   "cell_type": "markdown",
   "metadata": {},
   "source": [
    "We can find approximate solution: $\\widehat A \\widehat x = \\widehat b \\Rightarrow \\widehat x = \\widehat A^{-1} \\widehat b$:\n",
    "\n",
    "$$\\widehat x = \\begin{pmatrix} 1.625 \\\\ 0.875 \\end{pmatrix}$$"
   ]
  },
  {
   "cell_type": "code",
   "execution_count": 276,
   "metadata": {},
   "outputs": [],
   "source": [
    "A_hat = np.array([[6,-10],\n",
    "                  [1,-3]])\n",
    "b_hat = np.array([1,-1]).reshape(-1,1)\n",
    "\n",
    "A_hat_inv = np.linalg.inv(A_hat)\n",
    "\n",
    "x_hat = A_hat_inv @ b_hat"
   ]
  },
  {
   "cell_type": "markdown",
   "metadata": {},
   "source": [
    "To find the relatrive error of this solution in different norms we can use the following formula:\n",
    "\n",
    "$$\\frac{\\delta A + \\delta b}{\\chi(A)} \\leq \\delta x \\leq (\\delta A + \\delta b)\\chi(A)$$"
   ]
  },
  {
   "cell_type": "markdown",
   "metadata": {},
   "source": [
    "Finding relative error in $|.|_{1}$: \n",
    "$$\\delta_{1} A = \\frac{||\\Delta A||_{1}}{||\\widehat A||_{1}} = \\frac{max\\{\\epsilon_{1},2\\epsilon_{2}+\\epsilon_{1}\\}}{max\\{7,13\\}} < \\frac{0.15}{13} = 0.011$$"
   ]
  },
  {
   "cell_type": "markdown",
   "metadata": {},
   "source": [
    "$$\\delta_{1} b = \\frac{|\\Delta b|_{1}}{|\\widehat b|_{1}} < \\frac{0.1}{2} =  0.05$$"
   ]
  },
  {
   "cell_type": "markdown",
   "metadata": {},
   "source": [
    "$$\\chi_{1}(\\widehat A) = ||\\widehat A||_{1}||\\widehat A^{-1}||_{1} = 26$$"
   ]
  },
  {
   "cell_type": "code",
   "execution_count": 289,
   "metadata": {},
   "outputs": [
    {
     "name": "stdout",
     "output_type": "stream",
     "text": [
      "min:0.0023461538461538468\n",
      "max:1.5859999999999996\n"
     ]
    }
   ],
   "source": [
    "print('min:{}'.format((0.011+0.05)/chi_A1 ))\n",
    "print('max:{}'.format((0.011+0.05)*chi_A1 ))\n"
   ]
  },
  {
   "cell_type": "markdown",
   "metadata": {},
   "source": [
    "To find $||\\cdot||_{1}$ and $|\\cdot|_{1}$ we used predefined functions 'norm_1(A)' and 'norm_1vec(b)'.\n",
    "Finally, we can estimate relative error of approximate solution: $\\delta_{1}x = [0, 1.586)$  "
   ]
  },
  {
   "cell_type": "code",
   "execution_count": 286,
   "metadata": {},
   "outputs": [
    {
     "name": "stdout",
     "output_type": "stream",
     "text": [
      "25.999999999999993\n"
     ]
    }
   ],
   "source": [
    "chi_A1 = norm_1(A_hat) * norm_1(np.linalg.inv(A_hat))\n",
    "print(chi_A1)"
   ]
  },
  {
   "cell_type": "markdown",
   "metadata": {},
   "source": [
    "Finding relative error in $|\\cdot|_{\\infty}$:\n",
    "\n",
    "$$\\delta_{\\infty} A = \\frac{||\\Delta A||_{\\infty}}{||\\widehat A||_{\\infty}} = \\frac{max\\{\\epsilon_{1},2\\epsilon_{2}+\\epsilon_{1}\\}}{max\\{16,4\\}} < \\frac{0.15}{16} = 0.0093$$\n",
    "\n",
    "$$\\delta_{\\infty} b = \\frac{|\\Delta b|_{\\infty}}{|\\widehat b|_{\\infty}} < \\frac{0.05}{1} =  0.05$$\n",
    "\n",
    "$$\\chi_{\\infty}(\\widehat A) = ||\\widehat A||_{\\infty}||\\widehat A^{-1}||_{\\infty} = 26$$"
   ]
  },
  {
   "cell_type": "code",
   "execution_count": 293,
   "metadata": {},
   "outputs": [
    {
     "name": "stdout",
     "output_type": "stream",
     "text": [
      "25.999999999999996\n"
     ]
    }
   ],
   "source": [
    "chi_Ainf = norm_inf(A_hat) * norm_inf(np.linalg.inv(A_hat))\n",
    "print(chi_Ainf)"
   ]
  },
  {
   "cell_type": "code",
   "execution_count": 294,
   "metadata": {},
   "outputs": [
    {
     "name": "stdout",
     "output_type": "stream",
     "text": [
      "min:0.0022807692307692316\n",
      "max:1.5417999999999996\n"
     ]
    }
   ],
   "source": [
    "print('min:{}'.format((0.0093+0.05)/chi_A1 ))\n",
    "print('max:{}'.format((0.0093+0.05)*chi_A1 ))\n"
   ]
  },
  {
   "cell_type": "markdown",
   "metadata": {},
   "source": [
    "Finally, we can estimate relative error of approximate solution: $\\delta_{\\infty}x = [0, 1.542)$  "
   ]
  },
  {
   "cell_type": "markdown",
   "metadata": {},
   "source": [
    "Finding relative error in $|\\cdot|_{\\infty}$:\n",
    "\n",
    "$$\\delta_{2} A = \\frac{||\\Delta A||_{2}}{||\\widehat A||_{2}} = \\frac{\\sqrt{\\lambda_{max}(\\Delta A^{*} \\Delta A)}}{\\sqrt{\\lambda_{max}(\\widehat A^{*} \\widehat A)}} < \\frac{0.366}{12.064} = 0.03$$\n",
    "\n",
    "$$\\delta_{2} b = \\frac{|\\Delta b|_{2}}{|\\widehat b|_{2}} < \\frac{0.005}{1.414} =  0.0035$$\n",
    "\n",
    "$$\\chi_{2}(\\widehat A) = \\sqrt{\\frac{\\lambda_{max}}{\\lambda_{min}}} = \\sqrt{\\frac{145.56}{0.439}} = 18.19$$"
   ]
  },
  {
   "cell_type": "code",
   "execution_count": 312,
   "metadata": {},
   "outputs": [
    {
     "name": "stdout",
     "output_type": "stream",
     "text": [
      "min:0.0018416712479384276\n",
      "max:0.609365\n"
     ]
    }
   ],
   "source": [
    "print('min:{}'.format((0.03+0.0035)/18.19 ))\n",
    "print('max:{}'.format((0.03+0.0035)*18.19 ))\n"
   ]
  },
  {
   "cell_type": "markdown",
   "metadata": {},
   "source": [
    "Finally, we can estimate relative error of approximate solution: $\\delta_{2}x = [0, 0.0609)$  "
   ]
  },
  {
   "cell_type": "markdown",
   "metadata": {},
   "source": [
    "## Answer\n",
    "## $$\\delta_{1}x = [0, 1.586)$$\n",
    "\n",
    "## $$\\delta_{\\infty}x = [0, 1.542)$$\n",
    "\n",
    "## $$\\delta_{2}x = [0, 0.609)$$"
   ]
  },
  {
   "cell_type": "markdown",
   "metadata": {},
   "source": [
    "# Task 4\n",
    "## Find the approximate inverse matrix to the matrix $A$ and evaluate the approximation error with respect to the uniform norm $||\\cdot||_1$ if the elements of the matrix $A$ are known with an absolute error of $0.01$: $$ A \\approx \\begin{pmatrix} 8 & -8 \\\\\n",
    "-8 & -8 \\end{pmatrix}$$"
   ]
  },
  {
   "cell_type": "code",
   "execution_count": 81,
   "metadata": {},
   "outputs": [],
   "source": [
    "A_hat = np.array([[8, -8],\n",
    "                  [-8, -8]])"
   ]
  },
  {
   "cell_type": "code",
   "execution_count": 83,
   "metadata": {
    "scrolled": true
   },
   "outputs": [
    {
     "data": {
      "text/plain": [
       "array([[ 0.062, -0.062],\n",
       "       [-0.062, -0.062]])"
      ]
     },
     "execution_count": 83,
     "metadata": {},
     "output_type": "execute_result"
    }
   ],
   "source": [
    "np.linalg.inv(A_hat)"
   ]
  },
  {
   "cell_type": "markdown",
   "metadata": {},
   "source": [
    "Firstly, let's rewrite matrix A in the following form:\n",
    "$$ A = \\widehat A + \\Delta A = \\begin{pmatrix} 8 & -8 \\\\ -8 & -8 \\end{pmatrix} + \\begin{pmatrix} \\epsilon_{11} & \\epsilon_{12} \\\\ \\epsilon_{21} & \\epsilon_{22} \\end{pmatrix}$$"
   ]
  },
  {
   "cell_type": "markdown",
   "metadata": {},
   "source": [
    "Let's find $\\widehat A^{-1}$:\n",
    "$$\\widehat A^{-1} = \\frac{1}{|\\widehat A|} \\begin{pmatrix} -8 & 8 \\\\ 8 & 8 \\end{pmatrix} = \\pmb{\\frac{1}{-128} \\begin{pmatrix} -8 & 8 \\\\ 8 & 8 \\end{pmatrix}}$$"
   ]
  },
  {
   "cell_type": "markdown",
   "metadata": {},
   "source": [
    "We can find the approximation error with respect to the uniform norm $||\\cdot||_{1}$ using the following formula:\n",
    "\n",
    "$$\\delta_{1} A^{-1} \\leq \\frac{\\chi_{1}(\\widehat A)\\delta_{1} \\epsilon}{1 - \\chi_{1}(\\widehat A)\\delta_{1} \\epsilon}, \\delta_{1} \\epsilon = \\frac{||\\epsilon||_{1}}{||\\widehat A||_{1}} $$"
   ]
  },
  {
   "cell_type": "markdown",
   "metadata": {},
   "source": [
    "$||\\epsilon||_{1} = ||\\Delta A||_{1} = \\displaystyle\\max_{j}|\\Delta A^{j}| = \\displaystyle\\max_{j}\\{|0.01|+|0.01|,|0.01| + |0.01|\\} = 0.02$\n",
    "\n",
    "$||\\widehat A||_{1} = \\displaystyle\\max{j}|\\widehat A^{j}| = \\displaystyle\\max_{j}\\{16, 16\\} = 16$ $\\Rightarrow \\delta_{1} \\epsilon =  \\frac{0.02}{16} = 0.00125$"
   ]
  },
  {
   "cell_type": "markdown",
   "metadata": {},
   "source": [
    "We have to calculate $\\chi_{1}(\\widehat A) = ||\\widehat A||_{1} ||\\widehat A^{-1}||_{1}$, we have already calculated first multiplier, so: \n",
    "$||\\widehat A^{-1}||_{1} = \\displaystyle\\max_{j}\\{0.128, 0.128\\} = 0.128$.\n",
    "So, $\\chi_{1}(\\widehat A) = 16 \\cdot 0.128 = 2.048$"
   ]
  },
  {
   "cell_type": "markdown",
   "metadata": {},
   "source": [
    "Finally, we can find $\\delta_{1}A^{-1}$:\n",
    "\n",
    "$$\\pmb{\\delta_{1}A^{-1} \\leq \\frac{2.048 \\cdot 0.00125}{1 - 2.048 \\cdot 0.00125} = 0.0026}$$"
   ]
  },
  {
   "cell_type": "markdown",
   "metadata": {},
   "source": [
    "## Answer\n",
    "## 1) $$\\widehat A^{-1} =  \\frac{1}{-128} \\begin{pmatrix} -8 & 8 \\\\ 8 & 8 \\end{pmatrix}$$\n",
    "\n",
    "## 2) $$\\delta_{1}A^{-1} \\leq 0.0026$$"
   ]
  },
  {
   "cell_type": "markdown",
   "metadata": {},
   "source": [
    "# Task 5\n",
    "## Use simple iteration method for finding the solution of the given linear system \n",
    "\n",
    "## $$\\begin{cases} 24x + 1y + 2z = 2 \\\\ 1x + 26y + 6z = 6 \\\\ 5x + 5y + 25z = 9 \\end{cases}$$\n",
    "## Determine the iteration number after which the approximation error for each coordinate does not exceed $0.01$ and find the corresponding approximate solution. Start with $x_0 = [0,0,0]^{T}$."
   ]
  },
  {
   "cell_type": "code",
   "execution_count": 198,
   "metadata": {},
   "outputs": [],
   "source": [
    "x_0 = np.array([0,0,0]).reshape(-1,1)"
   ]
  },
  {
   "cell_type": "code",
   "execution_count": 199,
   "metadata": {},
   "outputs": [],
   "source": [
    "A = np.array([[26, 4, 5],\n",
    "              [7, 24, 6],\n",
    "              [5, 3, 27]])\n",
    "B = np.array([5,6,2]).reshape(-1,1)"
   ]
  },
  {
   "cell_type": "code",
   "execution_count": 200,
   "metadata": {},
   "outputs": [],
   "source": [
    "c = max(A[0][0],A[1][1],A[2][2])"
   ]
  },
  {
   "cell_type": "code",
   "execution_count": 201,
   "metadata": {},
   "outputs": [],
   "source": [
    "C = np.array([[1/c,0,0],\n",
    "              [0,1/c,0],\n",
    "              [0,0,1/c]])"
   ]
  },
  {
   "cell_type": "code",
   "execution_count": 202,
   "metadata": {
    "scrolled": true
   },
   "outputs": [
    {
     "data": {
      "text/plain": [
       "array([[0.037, 0.   , 0.   ],\n",
       "       [0.   , 0.037, 0.   ],\n",
       "       [0.   , 0.   , 0.037]])"
      ]
     },
     "execution_count": 202,
     "metadata": {},
     "output_type": "execute_result"
    }
   ],
   "source": [
    "C"
   ]
  },
  {
   "cell_type": "markdown",
   "metadata": {},
   "source": [
    "We have the following matrices:\n",
    "\n",
    "$$A = \\begin{pmatrix} 24 & 1 & 2 \\\\ 1 & 26 & 6 \\\\ 5 & 5 & 25 \\end{pmatrix}, B = \\begin{pmatrix} 2 \\\\ 6 \\\\ 9 \\end{pmatrix}, x^{0} = \\begin{pmatrix} 0 \\\\ 0 \\\\ 0 \\end{pmatrix}$$\n",
    "\n",
    "So, matrix C is:\n",
    "$$ C = \\begin{pmatrix} 0.038 & 0 & 0 \\\\ 0 & 0.038 & 0 \\\\ 0 & 0 & 0.038 \\end{pmatrix}$$"
   ]
  },
  {
   "cell_type": "markdown",
   "metadata": {},
   "source": [
    "Then we have to find matrix $P$: \n",
    "\n",
    "$$P = I - CA = \\begin{pmatrix} 1 & 0 & 0 \\\\ 0 & 1 & 0 \\\\ 0 & 0 & 1 \\end{pmatrix} - \\begin{pmatrix} 0.038 & 0 & 0 \\\\ 0 & 0.038 & 0 \\\\ 0 & 0 & 0.038 \\end{pmatrix}\\begin{pmatrix} 24 & 1 & 2 \\\\ 1 & 26 & 6 \\\\ 5 & 5 & 25 \\end{pmatrix} = \\begin{pmatrix} 0.0769 & -0.0385 & -0.0769 \\\\ -0.0385 & 0 & -0.2308 \\\\ -0.1923 & -0.1923 & 0.0385 \\end{pmatrix}$$"
   ]
  },
  {
   "cell_type": "code",
   "execution_count": 203,
   "metadata": {
    "scrolled": true
   },
   "outputs": [],
   "source": [
    "P = np.identity(3) - (C @ A)"
   ]
  },
  {
   "cell_type": "markdown",
   "metadata": {},
   "source": [
    "Then we have to find $b$: \n",
    "$$b = CB = \\begin{pmatrix} 0.038 & 0 & 0 \\\\ 0 & 0.038 & 0 \\\\ 0 & 0 & 0.038 \\end{pmatrix}\\begin{pmatrix} 2 \\\\ 6 \\\\ 9 \\end{pmatrix} = \\begin{pmatrix} 0.0769 \\\\ 0.2308 \\\\ 0.3462 \\end{pmatrix}$$"
   ]
  },
  {
   "cell_type": "code",
   "execution_count": 204,
   "metadata": {},
   "outputs": [],
   "source": [
    "b = C @ B "
   ]
  },
  {
   "cell_type": "code",
   "execution_count": 205,
   "metadata": {},
   "outputs": [
    {
     "name": "stdout",
     "output_type": "stream",
     "text": [
      "0.4814814814814815\n"
     ]
    }
   ],
   "source": [
    "P_norm1 = norm_1(P)\n",
    "print(P_norm1)"
   ]
  },
  {
   "cell_type": "markdown",
   "metadata": {},
   "source": [
    "Calculate norm of matrix P using our function 'norm_1(A)': $||P||_{1} = 0.346 < 1$, so iteration process is convergent. "
   ]
  },
  {
   "cell_type": "markdown",
   "metadata": {},
   "source": [
    "Finally, we can find x using the following process:\n",
    "$$x^{k+1} = Px^{k} + b$$"
   ]
  },
  {
   "cell_type": "code",
   "execution_count": 210,
   "metadata": {},
   "outputs": [
    {
     "name": "stdout",
     "output_type": "stream",
     "text": [
      "Solution:[[0.1607 0.2014 0.0269]]\n",
      "Iteration:4\n"
     ]
    }
   ],
   "source": [
    "x_k1 = x_0\n",
    "cond = True\n",
    "k = 0\n",
    "while cond:\n",
    "    k+=1\n",
    "    x_k2 = P @ x_k1 + b \n",
    "    if (np.absolute(x_k2 - x_k1) < 0.01).all():\n",
    "        cond = False\n",
    "    else:\n",
    "        x_k1 = x_k2\n",
    "print('Solution:{}'.format(x_k1.T))\n",
    "print('Iteration:{}'.format(k))"
   ]
  },
  {
   "cell_type": "markdown",
   "metadata": {},
   "source": [
    "## Answer\n",
    "## $x^{4} = \\begin{pmatrix} 0.1607 \\\\ 0.2014  \\\\ 0.0269 \\end{pmatrix}$\n",
    "## We need 4 iterations"
   ]
  },
  {
   "cell_type": "markdown",
   "metadata": {},
   "source": [
    "# Task 6\n",
    "## Find the most influential vertex in the graph using the Page Rank algorithm with $\\beta = 0.15$, where the graph adjacency matrix is defined as follows \n",
    "## $$ A = \\begin{bmatrix} 1 & 1 & 1 & 1 & 1 \\\\ 0 & 0 & 1 & 0 & 1 \\\\ 0 & 0 & 0 & 1 & 1 \\\\ 0 & 0 & 1 & 0 & 1 \\\\ 0 & 1 & 0 & 0 & 1 \\end{bmatrix} $$"
   ]
  },
  {
   "cell_type": "code",
   "execution_count": 214,
   "metadata": {},
   "outputs": [],
   "source": [
    "A = np.array([[1,1,1,1,1],\n",
    "              [0,0,1,0,1],\n",
    "              [0,0,0,1,1],\n",
    "              [0,0,1,0,1],\n",
    "              [0,1,0,0,1]])\n",
    "P = np.array([el/sum(row) for row in A for el in row]).reshape(5,5)\n",
    "beta = 0.15"
   ]
  },
  {
   "cell_type": "markdown",
   "metadata": {},
   "source": [
    "So, our matrix $P$\n",
    "$$P = \\begin{bmatrix} 0.2 & 0.2 & 0.2 & 0.2 & 0.2 \\\\ 0 & 0 & 0.5 & 0 & 0.5 \\\\ 0 & 0 & 0 & 0.5 & 0.5 \\\\ 0 & 0 & 0.5 & 0 & 0.5 \\\\ 0 & 0.5 & 0 & 0 & 0.5 \\end{bmatrix}$$"
   ]
  },
  {
   "cell_type": "markdown",
   "metadata": {},
   "source": [
    "However, we have $\\beta = 0.15$, so we have to find $\\tilde{P} = P(1-\\beta) + \\beta Q$, where\n",
    "\n",
    "$$Q = \\begin{bmatrix} 0.04 & 0.04 & 0.04 & 0.04 & 0.04 \\\\ 0.04 & 0.04 & 0.04 & 0.04 & 0.04 \\\\ 0.04 & 0.04 & 0.04 & 0.04 & 0.04 \\\\ 0.04 & 0.04 & 0.04 & 0.04 & 0.04 \\\\ 0.04 & 0.04 & 0.04 & 0.04 & 0.04 \\end{bmatrix}$$\n",
    "\n",
    "$$\\tilde{P} = \\begin{bmatrix} 0.176 & 0.176 & 0.176 & 0.176 & 0.176 \\\\ 0.006 & 0.006 & 0.431 & 0.0.06 & 0.431 \\\\ 0.006 & 0.006 & 0.006 & 0.431 & 0.431 \\\\ 0.006 & 0.006 & 0.431 & 0.006 & 0.431 \\\\ 0.006 & 0.431 & 0.006 & 0.006 & 0.431 \\end{bmatrix}$$\n"
   ]
  },
  {
   "cell_type": "code",
   "execution_count": 220,
   "metadata": {},
   "outputs": [],
   "source": [
    "Q = np.ones((5,5)) * 1/A.shape[0]**2"
   ]
  },
  {
   "cell_type": "code",
   "execution_count": 221,
   "metadata": {},
   "outputs": [],
   "source": [
    "P_hat = P*(1-beta) + Q*beta"
   ]
  },
  {
   "cell_type": "markdown",
   "metadata": {},
   "source": [
    "In the initial state $x_0 = \\begin{pmatrix} 0.2 & 0.2 & 0.2 & 0.2 & 0.2 \\end{pmatrix}^{T}$. Let's calculate next steps using iterative process."
   ]
  },
  {
   "cell_type": "code",
   "execution_count": 231,
   "metadata": {},
   "outputs": [
    {
     "name": "stdout",
     "output_type": "stream",
     "text": [
      "x_1:[[0.04  0.125 0.21  0.125 0.38 ]]\n",
      "x_2:[[0.0121 0.1736 0.1183 0.1013 0.3691]]\n",
      "x_3:[[0.0067 0.1636 0.1235 0.057  0.3307]]\n",
      "x_4:[[0.0052 0.1458 0.099  0.0577 0.292 ]]\n"
     ]
    }
   ],
   "source": [
    "x_0 = np.array([0.2,0.2,0.2,0.2,0.2]).reshape(-1,1)\n",
    "for i in range(4):\n",
    "    x_i = P_hat.T @ x_0\n",
    "    x_0 = x_i\n",
    "    print('x_{}:{}'.format(i+1,x_0.T))"
   ]
  },
  {
   "cell_type": "markdown",
   "metadata": {},
   "source": [
    "We get:\n",
    "$$x_1 = \\begin{pmatrix} 0.04 & 0.125 & 0.21 & 0.125 & 0.38 \\end{pmatrix}^{T}$$\n",
    "$$x_2 = \\begin{pmatrix} 0.012 & 0.173 & 0.118 & 0.101 & 0.369 \\end{pmatrix}^{T}$$\n",
    "$$x_3 = \\begin{pmatrix} 0.007 & 0.163 & 0.123 & 0.057 & 0.33 \\end{pmatrix}^{T}$$\n",
    "$$x_4 = \\begin{pmatrix} 0.0052 & 0.146 & 0.1 & 0.058 & 0.29 \\end{pmatrix}^{T}$$"
   ]
  },
  {
   "cell_type": "markdown",
   "metadata": {},
   "source": [
    "We see, that the most influential vertex is vertex number 5"
   ]
  },
  {
   "cell_type": "markdown",
   "metadata": {},
   "source": [
    "## Answer \n",
    "## Vertex 5 "
   ]
  },
  {
   "cell_type": "markdown",
   "metadata": {},
   "source": [
    "# Task 7 \n",
    "## Find the value $f(A)$ of the function $f(l) = e^{l+1}$, where \n",
    "## $$A = \\begin{pmatrix} -6 & 26 & 9 \\\\ -6 & 22 & 7 \\\\ 8 & -28 & -8 \\end{pmatrix}$$"
   ]
  },
  {
   "cell_type": "markdown",
   "metadata": {},
   "source": [
    "Firstly, we have to find Jordan form of A. To do this we find eigenvalues, and then eigenvectors.\n",
    "\n",
    "$$\\begin{vmatrix} -6-\\lambda & 26 & 9 \\\\ -6 & 22-\\lambda & 7 \\\\ 8 & -28 & -8-\\lambda \\end{vmatrix} = 0$$\n",
    "\n",
    "$$(-6-x)(22-x)(-8-x) + 6\\cdot28\\cdot9 + 26\\cdot7\\cdot8 - (72(22-x) + 7(-6-x)(-28) + (-6)\\cdot26(-8-x) )= 0$$\n",
    "\n",
    "From this equation we got $\\lambda_{1,2} = 2$, $\\lambda_{3} = 4$ and we have to find their eigenvectors: \n",
    "\n"
   ]
  },
  {
   "cell_type": "markdown",
   "metadata": {},
   "source": [
    "first step:$\\lambda = 2$ \n",
    "$$(A-2I) = \\begin{pmatrix} -8 & 26 & 9 \\\\ -6 & 20 & 7 \\\\ 8 & -28 & -10 \\end{pmatrix} \\sim  \\begin{pmatrix} 1 & 0 & 0.5 \\\\ 0 & 1 & 0.5 \\\\ 0 & 0 & 0 \\end{pmatrix} \\Rightarrow v_{1} = \\begin{pmatrix} -1 \\\\ -1 \\\\ 2 \\end{pmatrix}$$\n",
    "\n",
    "second step:\n",
    "$$(A-2I)^{2} = \\begin{pmatrix} -20 & 60 & 20 \\\\ -16 & 48 & 16 \\\\ 24 & -72 & -24 \\end{pmatrix} \\sim  \\begin{pmatrix} 1 & -3 & -1 \\\\ 0 & 0 & 0 \\\\ 0 & 0 & 0 \\end{pmatrix} \\Rightarrow v_{2} = \\begin{pmatrix} 3c_{1}+c_{2} \\\\ c_{1} \\\\ c_{2} \\end{pmatrix} = \\begin{pmatrix} 1 \\\\ 0 \\\\ 1 \\end{pmatrix}$$\n",
    "\n",
    "third step:\n",
    "$$v_{2}^{'} = (A - 2I)v_{2} = \\begin{pmatrix} 1 \\\\ 1 \\\\ -2 \\end{pmatrix}$$\n",
    "\n",
    "forth step:$\\lambda = 4$\n",
    "$$(A-4I) = \\begin{pmatrix} -10 & 26 & 9 \\\\ -6 & 18 & 7 \\\\ 8 & -28 & -12 \\end{pmatrix} \\sim  \\begin{pmatrix} 8 & -28 & -12 \\\\ 0 & -24 & -16 \\\\ 0 & 0 & 0 \\end{pmatrix} \\Rightarrow v_{4} = \\begin{pmatrix} -\\frac{23}{6}c \\\\ -\\frac{2}{3}c \\\\ c \\end{pmatrix} = \\begin{pmatrix} -23 \\\\ -4 \\\\ 6 \\end{pmatrix}$$"
   ]
  },
  {
   "cell_type": "markdown",
   "metadata": {},
   "source": [
    "Then, we have to build matrix J, T: \n",
    "\n",
    "$$J = \\begin{pmatrix} 2 & 1 & 0 \\\\ 0 & 2 & 0 \\\\ 0 & 0 & 4 \\end{pmatrix}$$\n",
    "\n",
    "$$T = \\begin{pmatrix} 1 & 1 & -23 \\\\ 1 & 0 & -4 \\\\ -2 & 1 & 6 \\end{pmatrix}$$\n",
    "\n",
    "Finally, we can find $f(A) = e^{A}e$ in the following form: $f(A) = Tf(J)T^{-1}$\n",
    "\n",
    "$$e^{J} = \\begin{pmatrix} e^{2} & e & 0 \\\\ 0 & e^{2} & 0 \\\\ 0 & 0 & e^{4} \\end{pmatrix} \\Rightarrow f(J) = e e^{J} = \\begin{pmatrix} e^{3} & e & 0 \\\\ 0 & e^{3} & 0 \\\\ 0 & 0 & e^{5} \\end{pmatrix}$$"
   ]
  },
  {
   "cell_type": "markdown",
   "metadata": {},
   "source": [
    "$$f(A) = \\begin{pmatrix} 1 & 1 & -23 \\\\ 1 & 0 & -4 \\\\ -2 & 1 & 6 \\end{pmatrix}\\begin{pmatrix} e^{3} & e & 0 \\\\ 0 & e^{3} & 0 \\\\ 0 & 0 & e^{5} \\end{pmatrix}\\begin{pmatrix} -0.235 & 1.706 & 0.235 \\\\ -0.118 & 2.353 & 1.118 \\\\ -0.059 & 0.176 & 0.059 \\end{pmatrix} = \\begin{pmatrix} 70.94 & -185.21 & -60.83 \\\\ 10.788 & -19.54 & -8.07 \\\\ -16.02 & 37.194 & 17.975 \\end{pmatrix}$$"
   ]
  },
  {
   "cell_type": "code",
   "execution_count": 268,
   "metadata": {},
   "outputs": [],
   "source": [
    "A = np.array([[-6,26,9],\n",
    "              [-6,22,7],\n",
    "              [8,-28,-8]])\n",
    "\n",
    "# A = np.array([[0,0,-1],\n",
    "#               [-14,-10,-13],\n",
    "#               [20,16,20]])\n",
    "\n",
    "# A = np.array([[2,0],\n",
    "#                [-1,1]])"
   ]
  },
  {
   "cell_type": "code",
   "execution_count": 272,
   "metadata": {},
   "outputs": [],
   "source": [
    "T = np.array([[1,1,-23],\n",
    "              [1,0,-4],\n",
    "              [-2,1,6]])\n",
    "Tinv = np.linalg.inv(T)"
   ]
  },
  {
   "cell_type": "code",
   "execution_count": 274,
   "metadata": {},
   "outputs": [
    {
     "data": {
      "text/plain": [
       "array([[  70.9404, -185.2174,  -60.833 ],\n",
       "       [  10.7882,  -19.5391,   -8.0699],\n",
       "       [ -16.0224,   37.1942,   17.9749]])"
      ]
     },
     "execution_count": 274,
     "metadata": {},
     "output_type": "execute_result"
    }
   ],
   "source": [
    "T @ np.array([[np.exp(2),np.exp(1),0],\n",
    "              [0, np.exp(2),0],\n",
    "              [0, 0, np.exp(4)]]) @ Tinv"
   ]
  },
  {
   "cell_type": "markdown",
   "metadata": {},
   "source": [
    "## Answe\n",
    "\n",
    "## $$f(A) =\\begin{pmatrix} 70.94 & -185.21 & -60.83 \\\\ 10.788 & -19.54 & -8.07 \\\\ -16.02 & 37.194 & 17.975 \\end{pmatrix}$$\n"
   ]
  },
  {
   "cell_type": "code",
   "execution_count": null,
   "metadata": {},
   "outputs": [],
   "source": []
  }
 ],
 "metadata": {
  "kernelspec": {
   "display_name": "Python 3",
   "language": "python",
   "name": "python3"
  },
  "language_info": {
   "codemirror_mode": {
    "name": "ipython",
    "version": 3
   },
   "file_extension": ".py",
   "mimetype": "text/x-python",
   "name": "python",
   "nbconvert_exporter": "python",
   "pygments_lexer": "ipython3",
   "version": "3.7.3"
  }
 },
 "nbformat": 4,
 "nbformat_minor": 2
}
